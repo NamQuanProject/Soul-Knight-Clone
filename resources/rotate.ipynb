{
 "cells": [
  {
   "cell_type": "markdown",
   "metadata": {},
   "source": [
    "# Rotate"
   ]
  },
  {
   "cell_type": "code",
   "execution_count": 4,
   "metadata": {},
   "outputs": [],
   "source": [
    "import cv2\n",
    "import os\n",
    "import numpy as np\n",
    "\n",
    "def rotateRight(weaponName):\n",
    "    templateImage = cv2.imread(\"./weapon/\" + weaponName + \"/template/\" + weaponName + \".bmp\")\n",
    "    outputDir = \"./weapon/\" + weaponName\n",
    "\n",
    "    height, width, channels = templateImage.shape\n",
    "    size = max(height , width)\n",
    "    center = (size / 2, size / 2)\n",
    "\n",
    "    if (height < size):\n",
    "        whiteLine = np.zeros((int((size-height)/2), width, channels), dtype=np.uint8)\n",
    "        whiteLine[:, :, :] = 255\n",
    "        templateImage = np.concatenate((whiteLine, templateImage), axis=0)\n",
    "        templateImage = np.concatenate((templateImage, whiteLine), axis=0)\n",
    "\n",
    "    if (width < size):\n",
    "        whiteLine = np.zeros((size, int((size-width)/2), channels), dtype=np.uint8)\n",
    "        whiteLine[:, :, :] = 255\n",
    "        templateImage = np.concatenate((whiteLine, templateImage), axis=1)\n",
    "        templateImage = np.concatenate((templateImage, whiteLine), axis=1)\n",
    "\n",
    "    # right 0 ~ 90\n",
    "    for i in range(0 , 93 , 3):\n",
    "        rotation_matrix = cv2.getRotationMatrix2D(center, i, 1.0)\n",
    "        outputImage = cv2.warpAffine(templateImage, rotation_matrix, flags=cv2.INTER_NEAREST , dsize = (size, size), borderValue=(255,255,255))\n",
    "        cv2.imwrite(os.path.join(outputDir, f\"{270-i}.bmp\"), outputImage)\n",
    "\n",
    "    # right 90 ~ 180\n",
    "    for i in range (270, 363, 3):\n",
    "        rotation_matrix = cv2.getRotationMatrix2D(center, i, 1.0)\n",
    "        outputImage = cv2.warpAffine(templateImage, rotation_matrix, flags=cv2.INTER_NEAREST , dsize = (size, size), borderValue=(255,255,255))\n",
    "        cv2.imwrite(os.path.join(outputDir, f\"{630 - i}.bmp\"), outputImage)\n",
    "\n",
    "def rotateLeft(weaponName):\n",
    "    templateImage = cv2.imread(\"./weapon/\" + weaponName + \"/template/flip_\" + weaponName + \".bmp\")\n",
    "    outputDir = \"./weapon/\" + weaponName\n",
    "\n",
    "    height, width, channels = templateImage.shape\n",
    "    size = max(height , width)\n",
    "    center = (size / 2, size / 2)\n",
    "\n",
    "    if (height < size):\n",
    "        whiteLine = np.zeros((int((size-height)/2), width, channels), dtype=np.uint8)\n",
    "        whiteLine[:, :, :] = 255\n",
    "        templateImage = np.concatenate((whiteLine, templateImage), axis=0)\n",
    "        templateImage = np.concatenate((templateImage, whiteLine), axis=0)\n",
    "\n",
    "    if (width < size):\n",
    "        whiteLine = np.zeros((size, int((size-width)/2), channels), dtype=np.uint8)\n",
    "        whiteLine[:, :, :] = 255\n",
    "        templateImage = np.concatenate((whiteLine, templateImage), axis=1)\n",
    "        templateImage = np.concatenate((templateImage, whiteLine), axis=1)\n",
    "\n",
    "    # right 180 ~ 270 \n",
    "    for i in range(0 , 93 , 3):\n",
    "        rotation_matrix = cv2.getRotationMatrix2D(center, i, 1.0)\n",
    "        outputImage = cv2.warpAffine(templateImage, rotation_matrix, flags=cv2.INTER_NEAREST , dsize = (size, size), borderValue=(255,255,255))\n",
    "        cv2.imwrite(os.path.join(outputDir, f\"{90 -i}.bmp\"), outputImage)\n",
    "\n",
    "    # right 270 ~ 360\n",
    "    for i in range (270, 363, 3):\n",
    "        rotation_matrix = cv2.getRotationMatrix2D(center, i, 1.0)\n",
    "        outputImage = cv2.warpAffine(templateImage, rotation_matrix, flags=cv2.INTER_NEAREST , dsize = (size, size), borderValue=(255,255,255))\n",
    "        cv2.imwrite(os.path.join(outputDir, f\"{450 - i}.bmp\"), outputImage)"
   ]
  },
  {
   "cell_type": "code",
   "execution_count": 3,
   "metadata": {},
   "outputs": [],
   "source": [
    "\n",
    "weaponList = os.listdir(\"./weapon\")\n",
    "for weapon in weaponList:\n",
    "    rotateRight(weapon)\n",
    "    rotateLeft(weapon)"
   ]
  },
  {
   "cell_type": "code",
   "execution_count": null,
   "metadata": {},
   "outputs": [],
   "source": []
  }
 ],
 "metadata": {
  "kernelspec": {
   "display_name": "Python 3",
   "language": "python",
   "name": "python3"
  },
  "language_info": {
   "codemirror_mode": {
    "name": "ipython",
    "version": 3
   },
   "file_extension": ".py",
   "mimetype": "text/x-python",
   "name": "python",
   "nbconvert_exporter": "python",
   "pygments_lexer": "ipython3",
   "version": "3.10.13"
  }
 },
 "nbformat": 4,
 "nbformat_minor": 2
}
