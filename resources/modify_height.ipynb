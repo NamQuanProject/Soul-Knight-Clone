{
 "cells": [
  {
   "cell_type": "markdown",
   "metadata": {},
   "source": [
    "# 將指定路徑內的bmp圖片上方加入白線(height 增加)"
   ]
  },
  {
   "cell_type": "code",
   "execution_count": 18,
   "metadata": {},
   "outputs": [],
   "source": [
    "import cv2\n",
    "import os\n",
    "import numpy as np\n",
    "\n",
    "# 輸入資料夾路徑\n",
    "input_dir = \"./image\"\n",
    "\n",
    "# 輸出資料夾路徑\n",
    "output_dir = \"./image\"\n",
    "\n",
    "# 輸入圖片高度\n",
    "imgae_height = 29\n",
    "\n",
    "# 建立輸出資料夾\n",
    "if not os.path.exists(output_dir):\n",
    "    os.makedirs(output_dir)\n",
    "\n",
    "# 處理資料夾內所有 bmp 檔案\n",
    "for filename in os.listdir(input_dir):\n",
    "    if filename.endswith(\".bmp\"):\n",
    "        # 讀取輸入影像\n",
    "        input_image = cv2.imread(os.path.join(input_dir, filename))\n",
    "\n",
    "        # 新增白色橫線\n",
    "        height, width, channels = input_image.shape\n",
    "        if (height < imgae_height):\n",
    "            white_line = np.zeros((imgae_height-height, width, channels), dtype=np.uint8)\n",
    "            white_line[:, :, :] = 255\n",
    "\n",
    "            # 將白色橫線插入影像上方\n",
    "            output_image = np.concatenate((white_line, input_image), axis=0)\n",
    "\n",
    "            # 輸出影像\n",
    "            cv2.imwrite(os.path.join(output_dir, filename), output_image)"
   ]
  },
  {
   "cell_type": "code",
   "execution_count": null,
   "metadata": {},
   "outputs": [],
   "source": []
  }
 ],
 "metadata": {
  "kernelspec": {
   "display_name": "opencv",
   "language": "python",
   "name": "python3"
  },
  "language_info": {
   "codemirror_mode": {
    "name": "ipython",
    "version": 3
   },
   "file_extension": ".py",
   "mimetype": "text/x-python",
   "name": "python",
   "nbconvert_exporter": "python",
   "pygments_lexer": "ipython3",
   "version": "3.10.13"
  }
 },
 "nbformat": 4,
 "nbformat_minor": 2
}
